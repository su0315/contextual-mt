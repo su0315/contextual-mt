{
 "cells": [
  {
   "cell_type": "code",
   "execution_count": 1,
   "id": "9316e0b6",
   "metadata": {},
   "outputs": [
    {
     "name": "stderr",
     "output_type": "stream",
     "text": [
      "Cloning into 'sentencepiece'...\n"
     ]
    }
   ],
   "source": [
    "! git clone git@github.com:google/sentencepiece.git"
   ]
  },
  {
   "cell_type": "code",
   "execution_count": 6,
   "id": "5547274c",
   "metadata": {},
   "outputs": [
    {
     "name": "stderr",
     "output_type": "stream",
     "text": [
      "UsageError: Line magic function `%spm_train` not found.\n"
     ]
    }
   ],
   "source": [
    "%spm_train --input=botchan.txt --model_prefix=tryal_model --vocab_size=8000 --character_coverage=1.0"
   ]
  }
 ],
 "metadata": {
  "kernelspec": {
   "display_name": "Python 3 (ipykernel)",
   "language": "python",
   "name": "python3"
  },
  "language_info": {
   "codemirror_mode": {
    "name": "ipython",
    "version": 3
   },
   "file_extension": ".py",
   "mimetype": "text/x-python",
   "name": "python",
   "nbconvert_exporter": "python",
   "pygments_lexer": "ipython3",
   "version": "3.8.15"
  }
 },
 "nbformat": 4,
 "nbformat_minor": 5
}
